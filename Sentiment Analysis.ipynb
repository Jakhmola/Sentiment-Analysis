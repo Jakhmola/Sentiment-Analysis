{
 "cells": [
  {
   "cell_type": "code",
   "execution_count": null,
   "id": "357dad31-68e1-44a5-bb9b-50d53b97d803",
   "metadata": {},
   "outputs": [],
   "source": [
    "conda install -c conda-forge python-flair\n",
    "conda install -c conda-forge textblob\n",
    "conda install -c conda-forge vadersentiment"
   ]
  },
  {
   "cell_type": "code",
   "execution_count": 5,
   "id": "519f0a22-ee7c-4831-8482-40ff532ce659",
   "metadata": {},
   "outputs": [],
   "source": [
    "import pandas as pd\n",
    "import numpy as np"
   ]
  },
  {
   "cell_type": "code",
   "execution_count": 6,
   "id": "16f14644-9bed-4cd5-9ec4-74af6827596b",
   "metadata": {},
   "outputs": [
    {
     "name": "stdout",
     "output_type": "stream",
     "text": [
      "Reading file 01....\n",
      "Reading file 02....\n"
     ]
    }
   ],
   "source": [
    "dfs = []\n",
    "file_list = [f'dataset/part-0{i}.json' for i in range(1,3)]\n",
    "for i, file in enumerate(file_list):\n",
    "    print(f'Reading file 0{i+1}....')\n",
    "    data = pd.read_json(file) # read data frame from json file\n",
    "    dfs.append(data) # append the data frame to the list\n",
    "\n",
    "df = pd.concat(dfs) "
   ]
  },
  {
   "cell_type": "code",
   "execution_count": 7,
   "id": "b3f13b88-a820-479d-84a9-e0def264c68a",
   "metadata": {
    "tags": []
   },
   "outputs": [
    {
     "data": {
      "text/plain": [
       "(2022505, 9)"
      ]
     },
     "execution_count": 7,
     "metadata": {},
     "output_type": "execute_result"
    }
   ],
   "source": [
    "df.shape"
   ]
  },
  {
   "cell_type": "code",
   "execution_count": 8,
   "id": "cd305c2a-0dfa-4b27-9699-2feb7c6bd81e",
   "metadata": {
    "tags": []
   },
   "outputs": [
    {
     "data": {
      "text/html": [
       "<div>\n",
       "<style scoped>\n",
       "    .dataframe tbody tr th:only-of-type {\n",
       "        vertical-align: middle;\n",
       "    }\n",
       "\n",
       "    .dataframe tbody tr th {\n",
       "        vertical-align: top;\n",
       "    }\n",
       "\n",
       "    .dataframe thead th {\n",
       "        text-align: right;\n",
       "    }\n",
       "</style>\n",
       "<table border=\"1\" class=\"dataframe\">\n",
       "  <thead>\n",
       "    <tr style=\"text-align: right;\">\n",
       "      <th></th>\n",
       "      <th>review_id</th>\n",
       "      <th>reviewer</th>\n",
       "      <th>movie</th>\n",
       "      <th>rating</th>\n",
       "      <th>review_summary</th>\n",
       "      <th>review_date</th>\n",
       "      <th>spoiler_tag</th>\n",
       "      <th>review_detail</th>\n",
       "      <th>helpful</th>\n",
       "    </tr>\n",
       "  </thead>\n",
       "  <tbody>\n",
       "    <tr>\n",
       "      <th>0</th>\n",
       "      <td>rw5704482</td>\n",
       "      <td>raeldor-96879</td>\n",
       "      <td>After Life (2019– )</td>\n",
       "      <td>9.0</td>\n",
       "      <td>Very Strong Season 2</td>\n",
       "      <td>3 May 2020</td>\n",
       "      <td>0</td>\n",
       "      <td>I enjoyed the first season, but I must say I t...</td>\n",
       "      <td>[1, 1]</td>\n",
       "    </tr>\n",
       "    <tr>\n",
       "      <th>1</th>\n",
       "      <td>rw5704483</td>\n",
       "      <td>dosleeb</td>\n",
       "      <td>The Valhalla Murders (2019– )</td>\n",
       "      <td>6.0</td>\n",
       "      <td>Icelandic detectives?</td>\n",
       "      <td>3 May 2020</td>\n",
       "      <td>0</td>\n",
       "      <td>I know Iceland is a small country and police d...</td>\n",
       "      <td>[2, 2]</td>\n",
       "    </tr>\n",
       "    <tr>\n",
       "      <th>2</th>\n",
       "      <td>rw5704484</td>\n",
       "      <td>brightconscious</td>\n",
       "      <td>Special OPS (2020– )</td>\n",
       "      <td>7.0</td>\n",
       "      <td>Nothing special</td>\n",
       "      <td>3 May 2020</td>\n",
       "      <td>0</td>\n",
       "      <td>Except K K , no other actor looks comfortable ...</td>\n",
       "      <td>[0, 0]</td>\n",
       "    </tr>\n",
       "    <tr>\n",
       "      <th>3</th>\n",
       "      <td>rw5704485</td>\n",
       "      <td>gasconyway</td>\n",
       "      <td>#BlackAF (2020– )</td>\n",
       "      <td>8.0</td>\n",
       "      <td>Good but</td>\n",
       "      <td>3 May 2020</td>\n",
       "      <td>0</td>\n",
       "      <td>I'm guessing that as a 62 year old white woman...</td>\n",
       "      <td>[5, 9]</td>\n",
       "    </tr>\n",
       "    <tr>\n",
       "      <th>4</th>\n",
       "      <td>rw5704487</td>\n",
       "      <td>mmason-15867</td>\n",
       "      <td>The Droving (2020)</td>\n",
       "      <td>2.0</td>\n",
       "      <td>An honest review</td>\n",
       "      <td>3 May 2020</td>\n",
       "      <td>0</td>\n",
       "      <td>Here's the truth. There's not much to this mov...</td>\n",
       "      <td>[26, 41]</td>\n",
       "    </tr>\n",
       "  </tbody>\n",
       "</table>\n",
       "</div>"
      ],
      "text/plain": [
       "   review_id         reviewer                          movie  rating  \\\n",
       "0  rw5704482    raeldor-96879            After Life (2019– )     9.0   \n",
       "1  rw5704483          dosleeb  The Valhalla Murders (2019– )     6.0   \n",
       "2  rw5704484  brightconscious           Special OPS (2020– )     7.0   \n",
       "3  rw5704485       gasconyway              #BlackAF (2020– )     8.0   \n",
       "4  rw5704487     mmason-15867             The Droving (2020)     2.0   \n",
       "\n",
       "          review_summary review_date  spoiler_tag  \\\n",
       "0   Very Strong Season 2  3 May 2020            0   \n",
       "1  Icelandic detectives?  3 May 2020            0   \n",
       "2        Nothing special  3 May 2020            0   \n",
       "3               Good but  3 May 2020            0   \n",
       "4       An honest review  3 May 2020            0   \n",
       "\n",
       "                                       review_detail   helpful  \n",
       "0  I enjoyed the first season, but I must say I t...    [1, 1]  \n",
       "1  I know Iceland is a small country and police d...    [2, 2]  \n",
       "2  Except K K , no other actor looks comfortable ...    [0, 0]  \n",
       "3  I'm guessing that as a 62 year old white woman...    [5, 9]  \n",
       "4  Here's the truth. There's not much to this mov...  [26, 41]  "
      ]
     },
     "execution_count": 8,
     "metadata": {},
     "output_type": "execute_result"
    }
   ],
   "source": [
    "df.head(5)"
   ]
  },
  {
   "cell_type": "code",
   "execution_count": 9,
   "id": "badb7432-c6c0-443b-8bc6-e0dba9b85442",
   "metadata": {},
   "outputs": [],
   "source": [
    "df.drop(columns=['review_id','reviewer', 'movie', 'review_summary',\t'review_date', 'spoiler_tag', 'helpful'], inplace=True)\n"
   ]
  },
  {
   "cell_type": "code",
   "execution_count": 10,
   "id": "b3d39c04-1c16-40f2-b5dd-0ceada14f008",
   "metadata": {
    "tags": []
   },
   "outputs": [
    {
     "data": {
      "text/plain": [
       "<AxesSubplot:ylabel='Frequency'>"
      ]
     },
     "execution_count": 10,
     "metadata": {},
     "output_type": "execute_result"
    },
    {
     "data": {
      "image/png": "[encoded data removed]",
      "text/plain": [
       "<Figure size 432x288 with 1 Axes>"
      ]
     },
     "metadata": {
      "needs_background": "light"
     },
     "output_type": "display_data"
    }
   ],
   "source": [
    "df['rating'].plot(kind='hist')"
   ]
  },
  {
   "cell_type": "code",
   "execution_count": 11,
   "id": "4c6cf5f9-909a-4824-9811-e4a7d1f16e6e",
   "metadata": {
    "tags": []
   },
   "outputs": [
    {
     "data": {
      "text/plain": [
       "rating           114980\n",
       "review_detail         0\n",
       "dtype: int64"
      ]
     },
     "execution_count": 11,
     "metadata": {},
     "output_type": "execute_result"
    }
   ],
   "source": [
    "df.isna().sum()"
   ]
  },
  {
   "cell_type": "code",
   "execution_count": 12,
   "id": "0910a2c4-ccd9-4881-9beb-4689e94d93ab",
   "metadata": {},
   "outputs": [],
   "source": [
    "df.dropna(axis=0, inplace=True)"
   ]
  },
  {
   "cell_type": "code",
   "execution_count": 13,
   "id": "8a76d614-a73f-4054-9685-02e5b9311dcc",
   "metadata": {
    "tags": []
   },
   "outputs": [
    {
     "data": {
      "text/plain": [
       "rating           0\n",
       "review_detail    0\n",
       "dtype: int64"
      ]
     },
     "execution_count": 13,
     "metadata": {},
     "output_type": "execute_result"
    }
   ],
   "source": [
    "df.isna().sum()"
   ]
  },
  {
   "cell_type": "code",
   "execution_count": 11,
   "id": "1339eb96-7c8c-4efa-81c1-27b85c619263",
   "metadata": {},
   "outputs": [
    {
     "data": {
      "text/plain": [
       "(1907525, 2)"
      ]
     },
     "execution_count": 11,
     "metadata": {},
     "output_type": "execute_result"
    }
   ],
   "source": [
    "df.shape"
   ]
  },
  {
   "cell_type": "code",
   "execution_count": 12,
   "id": "3c2032cc-5dc4-4e16-8518-e49efa10bc3b",
   "metadata": {
    "tags": []
   },
   "outputs": [
    {
     "data": {
      "text/plain": [
       "rating           float64\n",
       "review_detail     object\n",
       "dtype: object"
      ]
     },
     "execution_count": 12,
     "metadata": {},
     "output_type": "execute_result"
    }
   ],
   "source": [
    "df.dtypes"
   ]
  },
  {
   "cell_type": "code",
   "execution_count": 13,
   "id": "cd7a3c3e-cc7b-4ba1-a7fa-35c3dae9098b",
   "metadata": {
    "tags": []
   },
   "outputs": [
    {
     "data": {
      "text/plain": [
       "count    1.907525e+06\n",
       "mean     6.691925e+00\n",
       "std      3.056878e+00\n",
       "min      1.000000e+00\n",
       "25%      5.000000e+00\n",
       "50%      7.000000e+00\n",
       "75%      9.000000e+00\n",
       "max      1.000000e+01\n",
       "Name: rating, dtype: float64"
      ]
     },
     "execution_count": 13,
     "metadata": {},
     "output_type": "execute_result"
    }
   ],
   "source": [
    "df['rating'].describe()"
   ]
  },
  {
   "cell_type": "code",
   "execution_count": 14,
   "id": "cee47817-4659-4de5-985b-72683014f5e6",
   "metadata": {},
   "outputs": [],
   "source": [
    "# rating > 6 gets positive sentiment i.e. 1 and raing < 5 gets negative sentiment i.e. 0\n",
    "def binary_rating(rating):\n",
    "    if int(rating) > 6:\n",
    "        return 1\n",
    "    elif int(rating) < 5:\n",
    "        return 0\n",
    "    else:\n",
    "        return np.nan\n",
    "    \n",
    "df['rating'] = df['rating'].apply(binary_rating)"
   ]
  },
  {
   "cell_type": "code",
   "execution_count": 15,
   "id": "e9ef29d4-db53-4c35-9474-5cf33e2c392e",
   "metadata": {},
   "outputs": [
    {
     "data": {
      "text/html": [
       "<div>\n",
       "<style scoped>\n",
       "    .dataframe tbody tr th:only-of-type {\n",
       "        vertical-align: middle;\n",
       "    }\n",
       "\n",
       "    .dataframe tbody tr th {\n",
       "        vertical-align: top;\n",
       "    }\n",
       "\n",
       "    .dataframe thead th {\n",
       "        text-align: right;\n",
       "    }\n",
       "</style>\n",
       "<table border=\"1\" class=\"dataframe\">\n",
       "  <thead>\n",
       "    <tr style=\"text-align: right;\">\n",
       "      <th></th>\n",
       "      <th>rating</th>\n",
       "      <th>review_detail</th>\n",
       "    </tr>\n",
       "  </thead>\n",
       "  <tbody>\n",
       "    <tr>\n",
       "      <th>0</th>\n",
       "      <td>1.0</td>\n",
       "      <td>I enjoyed the first season, but I must say I t...</td>\n",
       "    </tr>\n",
       "    <tr>\n",
       "      <th>1</th>\n",
       "      <td>NaN</td>\n",
       "      <td>I know Iceland is a small country and police d...</td>\n",
       "    </tr>\n",
       "    <tr>\n",
       "      <th>2</th>\n",
       "      <td>1.0</td>\n",
       "      <td>Except K K , no other actor looks comfortable ...</td>\n",
       "    </tr>\n",
       "  </tbody>\n",
       "</table>\n",
       "</div>"
      ],
      "text/plain": [
       "   rating                                      review_detail\n",
       "0     1.0  I enjoyed the first season, but I must say I t...\n",
       "1     NaN  I know Iceland is a small country and police d...\n",
       "2     1.0  Except K K , no other actor looks comfortable ..."
      ]
     },
     "execution_count": 15,
     "metadata": {},
     "output_type": "execute_result"
    }
   ],
   "source": [
    "df.head(3)"
   ]
  },
  {
   "cell_type": "code",
   "execution_count": 16,
   "id": "0d1362e8-3414-4ffa-9ba6-674d90cf7cac",
   "metadata": {},
   "outputs": [
    {
     "data": {
      "text/plain": [
       "rating           273935\n",
       "review_detail         0\n",
       "dtype: int64"
      ]
     },
     "execution_count": 16,
     "metadata": {},
     "output_type": "execute_result"
    }
   ],
   "source": [
    "df.isna().sum()"
   ]
  },
  {
   "cell_type": "code",
   "execution_count": 17,
   "id": "23daed33-a4b0-4681-a400-ea1bb84174f9",
   "metadata": {},
   "outputs": [],
   "source": [
    "df.dropna(inplace=True)"
   ]
  },
  {
   "cell_type": "code",
   "execution_count": 18,
   "id": "18eda69f-bbf2-45f5-b681-b68841b33e75",
   "metadata": {},
   "outputs": [
    {
     "data": {
      "text/plain": [
       "rating           0\n",
       "review_detail    0\n",
       "dtype: int64"
      ]
     },
     "execution_count": 18,
     "metadata": {},
     "output_type": "execute_result"
    }
   ],
   "source": [
    "df.isna().sum()"
   ]
  },
  {
   "cell_type": "code",
   "execution_count": 19,
   "id": "163d73ba-ba6b-4597-b066-853df46dd4be",
   "metadata": {},
   "outputs": [
    {
     "data": {
      "text/html": [
       "<div>\n",
       "<style scoped>\n",
       "    .dataframe tbody tr th:only-of-type {\n",
       "        vertical-align: middle;\n",
       "    }\n",
       "\n",
       "    .dataframe tbody tr th {\n",
       "        vertical-align: top;\n",
       "    }\n",
       "\n",
       "    .dataframe thead th {\n",
       "        text-align: right;\n",
       "    }\n",
       "</style>\n",
       "<table border=\"1\" class=\"dataframe\">\n",
       "  <thead>\n",
       "    <tr style=\"text-align: right;\">\n",
       "      <th></th>\n",
       "      <th>rating</th>\n",
       "      <th>review_detail</th>\n",
       "    </tr>\n",
       "  </thead>\n",
       "  <tbody>\n",
       "    <tr>\n",
       "      <th>0</th>\n",
       "      <td>1.0</td>\n",
       "      <td>I enjoyed the first season, but I must say I t...</td>\n",
       "    </tr>\n",
       "    <tr>\n",
       "      <th>2</th>\n",
       "      <td>1.0</td>\n",
       "      <td>Except K K , no other actor looks comfortable ...</td>\n",
       "    </tr>\n",
       "    <tr>\n",
       "      <th>3</th>\n",
       "      <td>1.0</td>\n",
       "      <td>I'm guessing that as a 62 year old white woman...</td>\n",
       "    </tr>\n",
       "    <tr>\n",
       "      <th>4</th>\n",
       "      <td>0.0</td>\n",
       "      <td>Here's the truth. There's not much to this mov...</td>\n",
       "    </tr>\n",
       "    <tr>\n",
       "      <th>5</th>\n",
       "      <td>1.0</td>\n",
       "      <td>Having seen this film for the first time today...</td>\n",
       "    </tr>\n",
       "    <tr>\n",
       "      <th>6</th>\n",
       "      <td>1.0</td>\n",
       "      <td>The movie had some very impressive scenes. Esp...</td>\n",
       "    </tr>\n",
       "    <tr>\n",
       "      <th>7</th>\n",
       "      <td>1.0</td>\n",
       "      <td>I loved it from the first episode! And I could...</td>\n",
       "    </tr>\n",
       "    <tr>\n",
       "      <th>8</th>\n",
       "      <td>0.0</td>\n",
       "      <td>I see that Netflix has a teenage/kids audience...</td>\n",
       "    </tr>\n",
       "    <tr>\n",
       "      <th>9</th>\n",
       "      <td>0.0</td>\n",
       "      <td>This is the show for people for whom nothing e...</td>\n",
       "    </tr>\n",
       "    <tr>\n",
       "      <th>10</th>\n",
       "      <td>1.0</td>\n",
       "      <td>This is a fun and intriguing mystery. The acti...</td>\n",
       "    </tr>\n",
       "  </tbody>\n",
       "</table>\n",
       "</div>"
      ],
      "text/plain": [
       "    rating                                      review_detail\n",
       "0      1.0  I enjoyed the first season, but I must say I t...\n",
       "2      1.0  Except K K , no other actor looks comfortable ...\n",
       "3      1.0  I'm guessing that as a 62 year old white woman...\n",
       "4      0.0  Here's the truth. There's not much to this mov...\n",
       "5      1.0  Having seen this film for the first time today...\n",
       "6      1.0  The movie had some very impressive scenes. Esp...\n",
       "7      1.0  I loved it from the first episode! And I could...\n",
       "8      0.0  I see that Netflix has a teenage/kids audience...\n",
       "9      0.0  This is the show for people for whom nothing e...\n",
       "10     1.0  This is a fun and intriguing mystery. The acti..."
      ]
     },
     "execution_count": 19,
     "metadata": {},
     "output_type": "execute_result"
    }
   ],
   "source": [
    "df.head(10)"
   ]
  },
  {
   "cell_type": "code",
   "execution_count": 20,
   "id": "f6e36c54-46eb-4989-a3b9-f5a415b55178",
   "metadata": {},
   "outputs": [
    {
     "name": "stdout",
     "output_type": "stream",
     "text": [
      "Positive sentiment review %age: 70.92012071572427 %\n",
      "Negative sentiment review %age: 29.079879284275734 %\n"
     ]
    }
   ],
   "source": [
    "pos = df[df['rating'] == 1].shape[0]/ df.shape[0] * 100\n",
    "neg = df[df['rating'] == 0].shape[0]/ df.shape[0] * 100\n",
    "print(f'Positive sentiment review %age: {pos} %')\n",
    "print(f'Negative sentiment review %age: {neg} %')"
   ]
  },
  {
   "cell_type": "code",
   "execution_count": 21,
   "id": "964e4ee5-fc1b-40f3-8bf5-d60d02ddeeec",
   "metadata": {},
   "outputs": [],
   "source": [
    "df.rename(columns={'review_detail': 'review'}, inplace=True)"
   ]
  },
  {
   "cell_type": "code",
   "execution_count": 22,
   "id": "472243bc-3fff-423b-8b34-9f38e1eeca3d",
   "metadata": {},
   "outputs": [],
   "source": [
    "df = df[['review','rating']]"
   ]
  },
  {
   "cell_type": "code",
   "execution_count": 23,
   "id": "6b1193d9-47b0-4a78-975e-1c98a905685e",
   "metadata": {},
   "outputs": [
    {
     "data": {
      "text/html": [
       "<div>\n",
       "<style scoped>\n",
       "    .dataframe tbody tr th:only-of-type {\n",
       "        vertical-align: middle;\n",
       "    }\n",
       "\n",
       "    .dataframe tbody tr th {\n",
       "        vertical-align: top;\n",
       "    }\n",
       "\n",
       "    .dataframe thead th {\n",
       "        text-align: right;\n",
       "    }\n",
       "</style>\n",
       "<table border=\"1\" class=\"dataframe\">\n",
       "  <thead>\n",
       "    <tr style=\"text-align: right;\">\n",
       "      <th></th>\n",
       "      <th>review</th>\n",
       "      <th>rating</th>\n",
       "    </tr>\n",
       "  </thead>\n",
       "  <tbody>\n",
       "    <tr>\n",
       "      <th>0</th>\n",
       "      <td>I enjoyed the first season, but I must say I t...</td>\n",
       "      <td>1.0</td>\n",
       "    </tr>\n",
       "    <tr>\n",
       "      <th>2</th>\n",
       "      <td>Except K K , no other actor looks comfortable ...</td>\n",
       "      <td>1.0</td>\n",
       "    </tr>\n",
       "    <tr>\n",
       "      <th>3</th>\n",
       "      <td>I'm guessing that as a 62 year old white woman...</td>\n",
       "      <td>1.0</td>\n",
       "    </tr>\n",
       "    <tr>\n",
       "      <th>4</th>\n",
       "      <td>Here's the truth. There's not much to this mov...</td>\n",
       "      <td>0.0</td>\n",
       "    </tr>\n",
       "  </tbody>\n",
       "</table>\n",
       "</div>"
      ],
      "text/plain": [
       "                                              review  rating\n",
       "0  I enjoyed the first season, but I must say I t...     1.0\n",
       "2  Except K K , no other actor looks comfortable ...     1.0\n",
       "3  I'm guessing that as a 62 year old white woman...     1.0\n",
       "4  Here's the truth. There's not much to this mov...     0.0"
      ]
     },
     "execution_count": 23,
     "metadata": {},
     "output_type": "execute_result"
    }
   ],
   "source": [
    "df.head(4)"
   ]
  },
  {
   "cell_type": "code",
   "execution_count": 24,
   "id": "72a8d0bd-1879-410b-bb97-a26aaf2b8d0c",
   "metadata": {},
   "outputs": [],
   "source": [
    "df.reset_index(drop=True, inplace=True)"
   ]
  },
  {
   "cell_type": "code",
   "execution_count": 25,
   "id": "59e88e81-0ad0-473e-9348-e8a12419c59b",
   "metadata": {},
   "outputs": [
    {
     "data": {
      "text/html": [
       "<div>\n",
       "<style scoped>\n",
       "    .dataframe tbody tr th:only-of-type {\n",
       "        vertical-align: middle;\n",
       "    }\n",
       "\n",
       "    .dataframe tbody tr th {\n",
       "        vertical-align: top;\n",
       "    }\n",
       "\n",
       "    .dataframe thead th {\n",
       "        text-align: right;\n",
       "    }\n",
       "</style>\n",
       "<table border=\"1\" class=\"dataframe\">\n",
       "  <thead>\n",
       "    <tr style=\"text-align: right;\">\n",
       "      <th></th>\n",
       "      <th>review</th>\n",
       "      <th>rating</th>\n",
       "    </tr>\n",
       "  </thead>\n",
       "  <tbody>\n",
       "    <tr>\n",
       "      <th>0</th>\n",
       "      <td>I enjoyed the first season, but I must say I t...</td>\n",
       "      <td>1.0</td>\n",
       "    </tr>\n",
       "    <tr>\n",
       "      <th>1</th>\n",
       "      <td>Except K K , no other actor looks comfortable ...</td>\n",
       "      <td>1.0</td>\n",
       "    </tr>\n",
       "    <tr>\n",
       "      <th>2</th>\n",
       "      <td>I'm guessing that as a 62 year old white woman...</td>\n",
       "      <td>1.0</td>\n",
       "    </tr>\n",
       "    <tr>\n",
       "      <th>3</th>\n",
       "      <td>Here's the truth. There's not much to this mov...</td>\n",
       "      <td>0.0</td>\n",
       "    </tr>\n",
       "  </tbody>\n",
       "</table>\n",
       "</div>"
      ],
      "text/plain": [
       "                                              review  rating\n",
       "0  I enjoyed the first season, but I must say I t...     1.0\n",
       "1  Except K K , no other actor looks comfortable ...     1.0\n",
       "2  I'm guessing that as a 62 year old white woman...     1.0\n",
       "3  Here's the truth. There's not much to this mov...     0.0"
      ]
     },
     "execution_count": 25,
     "metadata": {},
     "output_type": "execute_result"
    }
   ],
   "source": [
    "df.head(4)"
   ]
  },
  {
   "cell_type": "code",
   "execution_count": 26,
   "id": "c2af0547-29c0-4f8f-9778-33f056ddc4db",
   "metadata": {},
   "outputs": [
    {
     "data": {
      "text/plain": [
       "review    object\n",
       "rating     uint8\n",
       "dtype: object"
      ]
     },
     "execution_count": 26,
     "metadata": {},
     "output_type": "execute_result"
    }
   ],
   "source": [
    "df = df.astype({\"rating\": np.uint8})\n",
    "df.dtypes"
   ]
  },
  {
   "cell_type": "code",
   "execution_count": 27,
   "id": "1a396e10-1c2d-4a3c-b274-ef33ba24401d",
   "metadata": {},
   "outputs": [
    {
     "data": {
      "text/html": [
       "<div>\n",
       "<style scoped>\n",
       "    .dataframe tbody tr th:only-of-type {\n",
       "        vertical-align: middle;\n",
       "    }\n",
       "\n",
       "    .dataframe tbody tr th {\n",
       "        vertical-align: top;\n",
       "    }\n",
       "\n",
       "    .dataframe thead th {\n",
       "        text-align: right;\n",
       "    }\n",
       "</style>\n",
       "<table border=\"1\" class=\"dataframe\">\n",
       "  <thead>\n",
       "    <tr style=\"text-align: right;\">\n",
       "      <th></th>\n",
       "      <th>review</th>\n",
       "      <th>rating</th>\n",
       "    </tr>\n",
       "  </thead>\n",
       "  <tbody>\n",
       "    <tr>\n",
       "      <th>0</th>\n",
       "      <td>I enjoyed the first season, but I must say I t...</td>\n",
       "      <td>1</td>\n",
       "    </tr>\n",
       "    <tr>\n",
       "      <th>1</th>\n",
       "      <td>Except K K , no other actor looks comfortable ...</td>\n",
       "      <td>1</td>\n",
       "    </tr>\n",
       "    <tr>\n",
       "      <th>2</th>\n",
       "      <td>I'm guessing that as a 62 year old white woman...</td>\n",
       "      <td>1</td>\n",
       "    </tr>\n",
       "    <tr>\n",
       "      <th>3</th>\n",
       "      <td>Here's the truth. There's not much to this mov...</td>\n",
       "      <td>0</td>\n",
       "    </tr>\n",
       "    <tr>\n",
       "      <th>4</th>\n",
       "      <td>Having seen this film for the first time today...</td>\n",
       "      <td>1</td>\n",
       "    </tr>\n",
       "  </tbody>\n",
       "</table>\n",
       "</div>"
      ],
      "text/plain": [
       "                                              review  rating\n",
       "0  I enjoyed the first season, but I must say I t...       1\n",
       "1  Except K K , no other actor looks comfortable ...       1\n",
       "2  I'm guessing that as a 62 year old white woman...       1\n",
       "3  Here's the truth. There's not much to this mov...       0\n",
       "4  Having seen this film for the first time today...       1"
      ]
     },
     "execution_count": 27,
     "metadata": {},
     "output_type": "execute_result"
    }
   ],
   "source": [
    "df.head(5)"
   ]
  },
  {
   "cell_type": "markdown",
   "id": "40b9cb40-3d14-47e0-97a6-9b2e912be89b",
   "metadata": {},
   "source": [
    "# Preprocessing"
   ]
  },
  {
   "cell_type": "code",
   "execution_count": 33,
   "id": "32581a3a-d109-45dd-b5a9-5bf06e8c4d8e",
   "metadata": {},
   "outputs": [],
   "source": [
    "import nltk\n",
    "import re\n",
    "from nltk.corpus import stopwords\n",
    "from nltk.stem import WordNetLemmatizer"
   ]
  },
  {
   "cell_type": "code",
   "execution_count": 58,
   "id": "b3ea4e3a-45ec-4b66-8eb6-850189e2a8d3",
   "metadata": {
    "collapsed": true,
    "jupyter": {
     "outputs_hidden": true
    },
    "tags": []
   },
   "outputs": [
    {
     "name": "stdout",
     "output_type": "stream",
     "text": [
      "showing info https://raw.githubusercontent.com/nltk/nltk_data/gh-pages/index.xml\n"
     ]
    },
    {
     "data": {
      "text/plain": [
       "True"
      ]
     },
     "execution_count": 58,
     "metadata": {},
     "output_type": "execute_result"
    }
   ],
   "source": [
    "nltk.download()"
   ]
  },
  {
   "cell_type": "code",
   "execution_count": 34,
   "id": "0650b764-cc5e-449f-a815-694dc93e8114",
   "metadata": {},
   "outputs": [],
   "source": [
    "\n",
    "def clean_review(review):\n",
    "    alpha_only = re.sub(\"[^a-zA-Z]\", \" \", review)\n",
    "    lower = alpha_only.lower()\n",
    "    words = lower.split()\n",
    "    stop = set(stopwords.words('english'))\n",
    "    lemmatizer = WordNetLemmatizer()\n",
    "    meaningful_words  = [lemmatizer.lemmatize(word) for word in words if word not in stop]\n",
    "    return ' '.join(meaningful_words)"
   ]
  },
  {
   "cell_type": "code",
   "execution_count": 36,
   "id": "cac60be4-6a56-4a4f-a95c-c9a57f8f2986",
   "metadata": {},
   "outputs": [
    {
     "name": "stdout",
     "output_type": "stream",
     "text": [
      "\"Stalker\" is a work that amazes people with many memories and keeps its freshness even today. It is a film that has been ignored at the grand prize ceremony and has been criticized by the Soviet regime. But it deserves to be called one of the director's most daring films to the end. Regardless of whether or not you agree with Tarkovsky's career that has been overwhelmed with faith in the world at times, the sense of admiration created by the film's grand finale never loses its effect. Even years later.\n",
      "---------------------\n",
      "stalker work amazes people many memory keep freshness even today film ignored grand prize ceremony criticized soviet regime deserves called one director daring film end regardless whether agree tarkovsky career overwhelmed faith world time sense admiration created film grand finale never loses effect even year later\n"
     ]
    }
   ],
   "source": [
    "print(df.iloc[9770,0])\n",
    "print('---------------------')\n",
    "print(clean_review(df.iloc[9770,0]))"
   ]
  },
  {
   "cell_type": "code",
   "execution_count": 46,
   "id": "7e9e0b0a-a7fc-41c0-930d-49568a08ebbd",
   "metadata": {},
   "outputs": [],
   "source": [
    "df['review'] = df['review'].apply(clean_review)"
   ]
  },
  {
   "cell_type": "code",
   "execution_count": 47,
   "id": "bcdf6ee5-4edb-4b9b-a347-b84d633436d7",
   "metadata": {},
   "outputs": [],
   "source": [
    "from sklearn.model_selection import train_test_split\n",
    "x = df['review']\n",
    "y = df['rating']\n",
    "x_train, x_test, y_train, y_test = train_test_split(x, y, test_size=0.25, random_state=0)"
   ]
  },
  {
   "cell_type": "code",
   "execution_count": 48,
   "id": "cb1db583-8849-4284-a9c8-dae11288c972",
   "metadata": {},
   "outputs": [
    {
     "data": {
      "text/plain": [
       "1225192"
      ]
     },
     "execution_count": 48,
     "metadata": {},
     "output_type": "execute_result"
    }
   ],
   "source": [
    "len(x_train)"
   ]
  },
  {
   "cell_type": "code",
   "execution_count": 39,
   "id": "e6fa4236-2473-4fcf-a3f9-1cf37712450a",
   "metadata": {},
   "outputs": [
    {
     "data": {
      "text/plain": [
       "(408398, 408398)"
      ]
     },
     "execution_count": 39,
     "metadata": {},
     "output_type": "execute_result"
    }
   ],
   "source": [
    "len(x_test), len(y_test)"
   ]
  },
  {
   "cell_type": "markdown",
   "id": "95f1a35a-45a8-41cc-9acf-c8634bcde478",
   "metadata": {},
   "source": [
    "# TextBlob"
   ]
  },
  {
   "cell_type": "code",
   "execution_count": 40,
   "id": "ba4e88eb-9625-41ff-b1a1-77dfba7f9586",
   "metadata": {},
   "outputs": [],
   "source": [
    "from textblob import TextBlob"
   ]
  },
  {
   "cell_type": "code",
   "execution_count": 41,
   "id": "fd4063d1-ac64-4cca-bc09-690e942dc9be",
   "metadata": {},
   "outputs": [],
   "source": [
    "def blob_sentiment(review):\n",
    "    polarity = TextBlob(review).sentiment.polarity\n",
    "    if polarity >= 0:\n",
    "        return 1\n",
    "    return 0"
   ]
  },
  {
   "cell_type": "code",
   "execution_count": 42,
   "id": "741c64d2-6631-46f9-bbbd-ca134f83bd6b",
   "metadata": {},
   "outputs": [],
   "source": [
    "from sklearn.metrics import accuracy_score, classification_report"
   ]
  },
  {
   "cell_type": "code",
   "execution_count": 44,
   "id": "a2c68133-ab60-445f-8971-d1dc8d511d0d",
   "metadata": {},
   "outputs": [
    {
     "data": {
      "text/plain": [
       "1366253    American Psycho is a movie that digs psycholog...\n",
       "525008     This film comes from a fantastic novel dealing...\n",
       "168029     Paul Greengrass is the creator of one of the m...\n",
       "1050807    This show has been so well written for two sea...\n",
       "1511321    This is a pilot that Aaron Sorkin sets in moti...\n",
       "                                 ...                        \n",
       "16688      You know, the Scary Movie franchise might have...\n",
       "1537329    I don't think it's among the best ones but I d...\n",
       "1237568    Fantastic movie!!! Lots of horror, action and ...\n",
       "1306153    This is the episode I have been waiting for th...\n",
       "752654     Society is society, everyone struggles in thei...\n",
       "Name: review, Length: 408398, dtype: object"
      ]
     },
     "execution_count": 44,
     "metadata": {},
     "output_type": "execute_result"
    }
   ],
   "source": [
    "x_test"
   ]
  },
  {
   "cell_type": "code",
   "execution_count": 45,
   "id": "b05fb18e-6f18-4613-bf22-89a6caf06cd7",
   "metadata": {},
   "outputs": [
    {
     "data": {
      "text/plain": [
       "0.7979911752750993"
      ]
     },
     "execution_count": 45,
     "metadata": {},
     "output_type": "execute_result"
    }
   ],
   "source": [
    "predictions = x_test.apply(lambda x : blob_sentiment(x))\n",
    "accuracy_score(predictions,y_test)"
   ]
  },
  {
   "cell_type": "code",
   "execution_count": 49,
   "id": "54238903-f7ed-413f-8173-b2f61b63e1ec",
   "metadata": {},
   "outputs": [],
   "source": [
    "from vaderSentiment.vaderSentiment import SentimentIntensityAnalyzer\n",
    "analyzer = SentimentIntensityAnalyzer()"
   ]
  },
  {
   "cell_type": "code",
   "execution_count": 50,
   "id": "55cc5d6c-29d8-481a-a048-0d7633e886ce",
   "metadata": {},
   "outputs": [],
   "source": [
    "def vader_sentiment(review):\n",
    "    vs = analyzer.polarity_scores(review)\n",
    "    return int(vs.get(\"compound\")>0)"
   ]
  },
  {
   "cell_type": "code",
   "execution_count": 51,
   "id": "a2f207b6-6fea-41ce-a6e4-e49cd6099d16",
   "metadata": {},
   "outputs": [
    {
     "data": {
      "text/plain": [
       "0.7645874857369527"
      ]
     },
     "execution_count": 51,
     "metadata": {},
     "output_type": "execute_result"
    }
   ],
   "source": [
    "predictions = x_test.apply(lambda x : vader_sentiment(x))\n",
    "accuracy_score(predictions,y_test)"
   ]
  },
  {
   "cell_type": "code",
   "execution_count": 52,
   "id": "2c8eb20d-80ca-4796-a6c1-6641f6077e51",
   "metadata": {},
   "outputs": [
    {
     "name": "stdout",
     "output_type": "stream",
     "text": [
      "              precision    recall  f1-score   support\n",
      "\n",
      "           0       0.61      0.52      0.56    118938\n",
      "           1       0.82      0.86      0.84    289460\n",
      "\n",
      "    accuracy                           0.76    408398\n",
      "   macro avg       0.71      0.69      0.70    408398\n",
      "weighted avg       0.76      0.76      0.76    408398\n",
      "\n"
     ]
    }
   ],
   "source": [
    "print(classification_report(y_test, predictions))"
   ]
  },
  {
   "cell_type": "code",
   "execution_count": 53,
   "id": "754d1dd1-85ea-466d-ae4b-d43e40194f11",
   "metadata": {},
   "outputs": [],
   "source": [
    "from flair.models import TextClassifier\n",
    "from flair.data import Sentence"
   ]
  },
  {
   "cell_type": "code",
   "execution_count": 54,
   "id": "47520f12-5476-4cf9-aa69-a99331316ca5",
   "metadata": {},
   "outputs": [
    {
     "name": "stdout",
     "output_type": "stream",
     "text": [
      "2023-02-11 05:52:08,754 https://nlp.informatik.hu-berlin.de/resources/models/sentiment-curated-distilbert/sentiment-en-mix-distillbert_4.pt not found in cache, downloading to C:\\Users\\shubh\\AppData\\Local\\Temp\\tmpjee81lom\n"
     ]
    },
    {
     "name": "stderr",
     "output_type": "stream",
     "text": [
      "100%|██████████| 265512723/265512723 [00:34<00:00, 7614955.53B/s] "
     ]
    },
    {
     "name": "stdout",
     "output_type": "stream",
     "text": [
      "2023-02-11 05:52:43,936 copying C:\\Users\\shubh\\AppData\\Local\\Temp\\tmpjee81lom to cache at C:\\Users\\shubh\\.flair\\models\\sentiment-en-mix-distillbert_4.pt\n"
     ]
    },
    {
     "name": "stderr",
     "output_type": "stream",
     "text": [
      "\n"
     ]
    },
    {
     "name": "stdout",
     "output_type": "stream",
     "text": [
      "2023-02-11 05:52:44,043 removing temp file C:\\Users\\shubh\\AppData\\Local\\Temp\\tmpjee81lom\n",
      "2023-02-11 05:52:44,059 loading file C:\\Users\\shubh\\.flair\\models\\sentiment-en-mix-distillbert_4.pt\n"
     ]
    },
    {
     "data": {
      "application/vnd.jupyter.widget-view+json": {
       "model_id": "f6c40984fefd4853b26081aa9e0e8bd3",
       "version_major": 2,
       "version_minor": 0
      },
      "text/plain": [
       "Downloading:   0%|          | 0.00/28.0 [00:00<?, ?B/s]"
      ]
     },
     "metadata": {},
     "output_type": "display_data"
    },
    {
     "data": {
      "application/vnd.jupyter.widget-view+json": {
       "model_id": "e78afd5c67a34e38bb5d4d233e3f9afb",
       "version_major": 2,
       "version_minor": 0
      },
      "text/plain": [
       "Downloading:   0%|          | 0.00/483 [00:00<?, ?B/s]"
      ]
     },
     "metadata": {},
     "output_type": "display_data"
    },
    {
     "data": {
      "application/vnd.jupyter.widget-view+json": {
       "model_id": "8020e3cc2f104311ab4e19c6414a9dd5",
       "version_major": 2,
       "version_minor": 0
      },
      "text/plain": [
       "Downloading:   0%|          | 0.00/226k [00:00<?, ?B/s]"
      ]
     },
     "metadata": {},
     "output_type": "display_data"
    },
    {
     "data": {
      "application/vnd.jupyter.widget-view+json": {
       "model_id": "f42b4dceff134affa164c042831cc4c0",
       "version_major": 2,
       "version_minor": 0
      },
      "text/plain": [
       "Downloading:   0%|          | 0.00/455k [00:00<?, ?B/s]"
      ]
     },
     "metadata": {},
     "output_type": "display_data"
    }
   ],
   "source": [
    "classifier = TextClassifier.load('en-sentiment')\n",
    "def flair_sentiment(review):\n",
    "    sentence = Sentence(review)\n",
    "    classifier.predict(sentence)\n",
    "    return np.round(sentence.labels[0].score)"
   ]
  },
  {
   "cell_type": "code",
   "execution_count": null,
   "id": "2e2d4bc8-fcf6-49a1-bbe4-53b7c8c346ae",
   "metadata": {},
   "outputs": [],
   "source": [
    "predictions = x_test.apply(lambda x : flair_sentiment(x))\n",
    "accuracy_score(predictions,y_test)"
   ]
  },
  {
   "cell_type": "code",
   "execution_count": null,
   "id": "0051f7bb-39ec-4c81-8c89-1ed56b123659",
   "metadata": {},
   "outputs": [],
   "source": []
  }
 ],
 "metadata": {
  "kernelspec": {
   "display_name": "Python [conda env:tensorflow]",
   "language": "python",
   "name": "conda-env-tensorflow-py"
  },
  "language_info": {
   "codemirror_mode": {
    "name": "ipython",
    "version": 3
   },
   "file_extension": ".py",
   "mimetype": "text/x-python",
   "name": "python",
   "nbconvert_exporter": "python",
   "pygments_lexer": "ipython3",
   "version": "3.9.12"
  }
 },
 "nbformat": 4,
 "nbformat_minor": 5
}
